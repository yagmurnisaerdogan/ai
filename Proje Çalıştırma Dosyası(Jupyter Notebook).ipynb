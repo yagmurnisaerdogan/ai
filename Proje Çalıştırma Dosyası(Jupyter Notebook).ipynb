{
 "cells": [
  {
   "cell_type": "markdown",
   "id": "d6706a22",
   "metadata": {},
   "source": [
    "# MAKİNE ÖĞRENİMİ İLE FOTOĞRAFLARDAKİ EL YAZISI HARFLERİ VE RAKAMLARI TANIMA"
   ]
  },
  {
   "cell_type": "markdown",
   "id": "dbd20c44",
   "metadata": {},
   "source": [
    "### Ders: Bilgisayar Zeki Sistem Uygulamaları\n",
    "\n",
    "### Hazırlayanlar: Mustafa Sedat Şenli - 460121058  |  Yağmur Nisa Erdoğan - 460121020\n",
    "\n",
    "### Hazırlama Süreci: Konumuz python ve kütüphanelerini kullanarak, makine öğrenimi ile fotoğrafları alınmış el yazısı harfleri ve rakamları tanıması, araştırmalarımız ve izlediğimiz kaynaklar doğrultusunda farklı yazılış biçimlerine sahip, harfleri ve rakamları içeren bir datasete(veri kümesine) ihtiyacımız vardı, harfler ile sayıları birlikte içeren Scikit-Learn gibi interaktif kütüphanelerde hazır bir dataset bulamadık. Sorunu Kaggle'dan temin ettiğimiz iki ayrı harf ve rakam datasetini birleştirerek çözdük, makinenin öğrenimi için verileri kütüphane kullanmadan bilgisayarımızdan çektik. Projemizi çalıştırmak için gerekli kodları iki ayrı video kaynağını harmanlayarak deneyerek ve öğrenerek yaptık, aldığımız hataları ise Stack Overflow gibi websiteleri yardımıyla çözdük. Her hücredeki kodların amaçlarını ise her kod bloklarının altında açıkladık, sayfayı aşağı sürükleyerek inceleyebilirsiniz."
   ]
  },
  {
   "cell_type": "markdown",
   "id": "d175923f",
   "metadata": {},
   "source": [
    "## Kütüphane Yüklemeleri"
   ]
  },
  {
   "cell_type": "code",
   "execution_count": 1,
   "id": "2c292d22",
   "metadata": {},
   "outputs": [],
   "source": [
    "import numpy as np\n",
    "import pandas as pd\n",
    "import matplotlib.pyplot as plt\n",
    "from sklearn.linear_model import LogisticRegression\n",
    "from sklearn.model_selection import train_test_split\n",
    "from sklearn.metrics import accuracy_score"
   ]
  },
  {
   "cell_type": "markdown",
   "id": "0f2bf58b",
   "metadata": {},
   "source": [
    "**Gerekli Python Kütüphaneler**\n",
    "\n",
    "_NumPy: Python programlama dili için büyük, çok boyutlu dizileri ve matrisleri destekleyen, bu diziler üzerinde çalışacak üst düzey matematiksel işlevler ekleyen bir kitaplıktır._\n",
    " \n",
    "_Pandas: Veri işlemesi ve analizi için Python programlama dilinde yazılmış olan bir yazılım kütüphanesidir._\n",
    "\n",
    "_Matplotlip: Python programlama dili ve sayısal matematik uzantısı NumPy için bir çizim kitaplığıdır._\n",
    "\n",
    "_Scikit-Learn: Python programlama dili için ücretsiz bir yazılım makine öğrenimi kitaplığıdır. Logistic Regression (Lojistik Regresyon) sınıflandırma işlemi yapmaya yarayan bir regresyon yöntemidir.Train Test Split, verileri tek satırlık bir satıra bölmek için tek bir çağrıya veri girmek için uygulamayı sarmalar._\n",
    "\n",
    "_OpenCV: Gerçek zamanlı bilgisayar görüsü uygulamalarında kullanılan açık kaynaklı kütüphane._"
   ]
  },
  {
   "cell_type": "markdown",
   "id": "ddf8de9d",
   "metadata": {},
   "source": [
    "## Dataset Sınıfının Oluşturulması"
   ]
  },
  {
   "cell_type": "code",
   "execution_count": 11,
   "id": "c78cca14",
   "metadata": {},
   "outputs": [
    {
     "name": "stdout",
     "output_type": "stream",
     "text": [
      "['0', '1', '2', '3', '4', '5', '6', '7', '8', '9', 'A', 'B', 'C', 'D', 'E', 'F', 'G', 'H', 'I', 'J', 'K', 'L', 'M', 'N', 'O', 'P', 'Q', 'R', 'S', 'T', 'U', 'V', 'W', 'X', 'Y', 'Z']\n"
     ]
    }
   ],
   "source": [
    "import os\n",
    "\n",
    "path = \"C:/Users/90531/Desktop/Bilgisayar Zeki Sistem Uygulamaları Projesi/dataset/train/\"\n",
    "files = os.listdir(path)[:36]\n",
    "print(files)\n",
    "\n",
    "classes={'0':0,'1':1,'2':2,'3':3,'4':4,'5':5,'6':6,'7':7,'8':8,'9':9,'A':'A','B':'B','C':'C','D':'D','E':'E', \n",
    "        'F':'F','G':'G','H':'H','I':'I','J':'J','K':'K','L':'L','M':'M', 'N':'N','O':'O','P':'P','Q':'Q','R':'R',\n",
    "        'S':'S','T':'T','U':'U','V':'V','W':'W','Y':'Y','Z':'Z'}\n",
    "\n"
   ]
  },
  {
   "cell_type": "markdown",
   "id": "e6cd4488",
   "metadata": {},
   "source": [
    "_Bu Python kodu ile bir klasörün içindeki dosyaların isimlerini okuduk ve bunları bir liste içinde sakladık. Bu kodla bir sözlük oluşturduk ve bu sözlükte her bir harf veya sayı için bir değer atandı._\n",
    "\n",
    "_İlk satırda,\"os\" modülünü içe aktardık. Bu modül, Python'da işletim sistemiyle etkileşim kurmak için fonksiyonlar sağlar._\n",
    "\n",
    "_İkinci satırda, \"path\" adlı bir değişkene datasetin bulunduğu dosya yolunu atadık._\n",
    "\n",
    "_Üçüncü satırda, \"os.listdir()\" fonksiyonu kullanarak, \"path\" değişkeninde belirtilen klasörün içindeki harfler ve rakamların bulunduğu klasör isimlerini bir liste olarak aldık.Bu listeyi, sonraki satırda \"files\" adlı değişkene atadık._\n",
    "\n",
    "_Dördüncü satırda, \"classes\" adlı bir sınıflandırma sözlüğü oluşturduk. Bu sözlükte, her bir harf veya sayı için bir anahtar ve değer atandı._"
   ]
  },
  {
   "cell_type": "code",
   "execution_count": 12,
   "id": "39163e67",
   "metadata": {},
   "outputs": [
    {
     "name": "stdout",
     "output_type": "stream",
     "text": [
      "Dataset başarıyla oluşturuldu!\n"
     ]
    }
   ],
   "source": [
    "import cv2 \n",
    "\n",
    "X=[]\n",
    "Y=[]\n",
    "\n",
    "for cl in classes:\n",
    "    pth = path+cl\n",
    "    for img_name in os.listdir(pth):\n",
    "        img = cv2.imread(pth+\"/\"+img_name,0)\n",
    "        X.append(img)\n",
    "        Y.append(classes[cl])\n",
    "print(\"Dataset başarıyla oluşturuldu!\")"
   ]
  },
  {
   "cell_type": "markdown",
   "id": "544955f2",
   "metadata": {},
   "source": [
    "_Bu Python kodu ile bir klasörün içindeki görüntüleri okuduk ve bu görüntüleri X ve Y adlı iki listeye ekledik. X listesi, görüntülerin pixel değerlerini saklıyor, Y listesi ise görüntülerin hangi sınıfa ait olduğunu gösteriyor._\n",
    "\n",
    "_İlk satırda, \"cv2\" modülünü içe aktardık. Bu modül, OpenCV adlı bir görüntü işleme kütüphanesini kullanarak görüntülerle çalışmak için fonksiyonlar sağladık.İkinci ve üçüncü satırda, X ve Y adlı iki liste oluşturduk._\n",
    "\n",
    "_Dördüncü satırda, \"classes\" sözlüğündeki her bir harf veya sayı için bir döngü oluşturduk. Bu döngü, sözlükteki her bir harf veya sayıyı bir değişkene atar ve bu değişken \"cl\" olarak adlandırır._\n",
    "\n",
    "_Beşinci satırda, her bir harf veya sayı için bir dosya yolu oluşturduk. Bu dosya yolu, \"path\" değişkeninde belirtilen yolu ve \"cl\" değişkeninde belirtilen harf veya sayıyı içerir. Örneğin, \"path\" değişkeninde \"C:/Users/90531/Desktop/Bilgisayar Zeki Sistem Uygulamaları Projesi/dataset/train/\" olarak belirtilmiş ve \"cl\" değişkeni \"0\" olarak atanmışsa, dosya yolu \"C:/Users/90531/Desktop/Bilgisayar Zeki Sistem Uygulamaları Projesi/dataset/train/0\" olarak oluşturulur._\n",
    "\n",
    "_Altıncı satırda, \"pth\" değişkeninde belirtilen klasörün içindeki dosyaların isimleri bir liste olarak aldık ve bu liste içinde bir döngü oluşturduk. Bu döngüde, her bir dosya için __aşağıdaki işlemleri__ gerçekleştiriyoruz:_\n",
    "\n",
    "• Görüntü dosyası okundu ve \"img\" değişkenine atandı. \"cv2.imread()\" fonksiyonu, görüntü dosyasını okuyor ve görüntüyü numpy dizisi olarak döndürüyor. Bu fonksiyonun ikinci argümanını \"0\" olarak belirledik, bu da görüntünün siyah beyaz olarak okunmasını sağladı.\n",
    "\n",
    "• Görüntüyü, \"X\" listesine ekledik.\n",
    "\n",
    "• Görüntünün hangi sınıfa ait olduğu bilgisini, \"Y\" listesine ekledik. Bu bilgiyi, \"classes\" sözlüğünden aldık ve \"cl\" değişkeninde belirtilen harf veya sayıya göre sözlükten değer aldık. Örneğin, \"cl\" değişkeni \"0\" olarak atanmışsa, sözlükten \"0\" değeri aldık ve \"Y\" listesine ekledik."
   ]
  },
  {
   "cell_type": "code",
   "execution_count": 13,
   "id": "17def6a5",
   "metadata": {},
   "outputs": [
    {
     "data": {
      "text/plain": [
       "6    1444\n",
       "1    1443\n",
       "5    1388\n",
       "0    1301\n",
       "3    1301\n",
       "4    1277\n",
       "2    1267\n",
       "8    1198\n",
       "9    1195\n",
       "A    1105\n",
       "I    1078\n",
       "S    1016\n",
       "G    1011\n",
       "B     988\n",
       "Z     965\n",
       "N     931\n",
       "R     910\n",
       "P     838\n",
       "F     836\n",
       "Q     805\n",
       "T     784\n",
       "L     728\n",
       "H     727\n",
       "D     690\n",
       "K     672\n",
       "O     667\n",
       "M     651\n",
       "V     638\n",
       "U     610\n",
       "Y     589\n",
       "W     581\n",
       "E     548\n",
       "J     526\n",
       "C     470\n",
       "7     285\n",
       "dtype: int64"
      ]
     },
     "execution_count": 13,
     "metadata": {},
     "output_type": "execute_result"
    }
   ],
   "source": [
    "pd.Series(Y).value_counts()"
   ]
  },
  {
   "cell_type": "markdown",
   "id": "8af2a1de",
   "metadata": {},
   "source": [
    "_Bu kod satırıyla, \"Y\" listesi içindeki elemanların sayısını hesapladık ve bu elemanların sayılarını bir sözlük şeklinde döndürdük. \"Y\" listesi içindeki elemanların sayısını gösterdik. Örnek verecek olursak, \"6\" elemanı 1444 tane olduğu, \"1\" elemanı 1443 tane olduğu vb. görülmekte. Bu çıktı, veri setinin dengeli olup olmadığı hakkında bize bilgi veriyor. Eğer \"Y\" listesi içinde bazı elemanların çok daha fazla sayıda olduğunu görürsek, veri setinin dengesiz olduğunu anlarız ve bu durum modelin doğruluk performansını etkileyeceği için düzenlememiz gerekir._"
   ]
  },
  {
   "cell_type": "code",
   "execution_count": 14,
   "id": "6ffe3b3c",
   "metadata": {},
   "outputs": [
    {
     "data": {
      "text/plain": [
       "(32, 32)"
      ]
     },
     "execution_count": 14,
     "metadata": {},
     "output_type": "execute_result"
    }
   ],
   "source": [
    "X[0].shape"
   ]
  },
  {
   "cell_type": "markdown",
   "id": "d3d45d04",
   "metadata": {},
   "source": [
    "_Bu kod satırı, \"X\" listemizdeki ilk elemanının boyutunu gösteriyor. \"X\" listemiz, görüntülerin numpy dizisi olarak sakladığımız bir listedir._"
   ]
  },
  {
   "cell_type": "code",
   "execution_count": 15,
   "id": "47726539",
   "metadata": {},
   "outputs": [
    {
     "name": "stdout",
     "output_type": "stream",
     "text": [
      "None\n"
     ]
    }
   ],
   "source": [
    "img_src = cv2.imread('C:/Users/90531/Desktop/Bilgisayar Zeki Sistem Uygulamaları Projesi/dataset/train/0/1.jpg',0)\n",
    "print (img_src)"
   ]
  },
  {
   "cell_type": "markdown",
   "id": "8dd2aa54",
   "metadata": {},
   "source": [
    "_Bu kod satırıyla, \"C:/Users/90531/Desktop/Bilgisayar Zeki Sistem Uygulamaları Projesi/dataset/train/0/1.jpg\" dizininde bulunan bir görüntü dosyasını \"cv2.imread()\" fonksiyonuyla numpy dizisine döndürdük, ikinci argümanı \"0\" olarak belirttik ki bu da görüntünün siyah-beyaz olarak okunmasını sağladı. Görüntüyü \"img_src\" değişkenine atadık.Sonra, \"print (img_src)\" kod satırı ile görüntünün bilgisi ekrana yazdırdık çalıştığını görmüş olduk. Bu bilgi, görüntünün satır sayısını, sütun sayısını ve kanal sayısını içeren bilgileri içeriyor._"
   ]
  },
  {
   "cell_type": "code",
   "execution_count": 16,
   "id": "b5387996",
   "metadata": {
    "scrolled": false
   },
   "outputs": [
    {
     "name": "stdout",
     "output_type": "stream",
     "text": [
      "<class 'list'>\n",
      "<class 'numpy.ndarray'>\n"
     ]
    }
   ],
   "source": [
    "print(type(X))\n",
    "X = np.array(X)\n",
    "Y = np.array(Y)\n",
    "print(type(X)) "
   ]
  },
  {
   "cell_type": "markdown",
   "id": "0f9c906d",
   "metadata": {},
   "source": [
    "_İlk olarak, \"print(type(X))\" kod satırı ile \"X\" listesinin tipi ekrana yazdırdık. Bu sayede, \"X\" listesinin ne tür bir veri yapısında olduğunu gösterdik._\n",
    "\n",
    "_Sonra, \"X = np.array(X)\" kod satırı ile \"X\" listesini numpy dizisi olarak dönüştürdük. Numpy, Python'da sayısal verileri işlemek için kullanılan bir kütüphanedir._\n",
    "\n",
    "_Aynı şekilde, \"Y = np.array(Y)\" kod satırı ile de \"Y\" listesini numpy dizisi olarak dönüştürdük._\n",
    "\n",
    "_Son olarak, \"print(type(X))\" kod satırı ile \"X\" listesinin tipini tekrar ekrana yazdırdık. Bu sayede, \"X\" listesinin numpy dizisi olarak dönüştürülmüş olup olmadığı kontrol ettik._"
   ]
  },
  {
   "cell_type": "markdown",
   "id": "bd62aad7",
   "metadata": {},
   "source": [
    "## Veri Analizi"
   ]
  },
  {
   "cell_type": "code",
   "execution_count": 17,
   "id": "091c40c9",
   "metadata": {},
   "outputs": [
    {
     "name": "stdout",
     "output_type": "stream",
     "text": [
      "0\n"
     ]
    },
    {
     "data": {
      "image/png": "[encoded data removed]",
      "text/plain": [
       "<Figure size 640x480 with 1 Axes>"
      ]
     },
     "metadata": {},
     "output_type": "display_data"
    }
   ],
   "source": [
    "plt.imshow(X[1000],cmap=\"gray\")\n",
    "print(Y[1000])"
   ]
  },
  {
   "cell_type": "markdown",
   "id": "11efb300",
   "metadata": {},
   "source": [
    "_Bu kod satırıyla \"X\" listesinin 1000. elemanı olan bir görüntüyü ekranda gösterdik ve bu görüntünün etiketini de ekranda yazdırdık._\n",
    "\n",
    "_İlk olarak, \"plt.imshow(X[1000],cmap=\"gray\")\" kod satırı ile \"X\" listesinin 1000. elemanı olan görüntüyü ekranda gösterdik. \"plt.imshow()\" fonksiyonu, bir görüntüyü ekranda göstermek için kullanılır ve \"cmap=\"gray\"\" argümanı ile görüntü siyah-beyaz olarak gösterilir. Eğer \"cmap\" argümanını belirtilmeseydik, görüntü renkli olarak gösterilecekti._\n",
    "\n",
    "_Son olarak, \"print(Y[1000])\" kod satırı ile görüntünün etiketini ekrana yazdırdık. \"Y\" listesi, görüntülerin etiketlerini içeren bir liste olduğu için \"Y[1000]\" ile \"X\" listesinin 1000. elemanına karşılık gelen etiketi almış olduk._"
   ]
  },
  {
   "cell_type": "code",
   "execution_count": 18,
   "id": "0d821728",
   "metadata": {},
   "outputs": [
    {
     "data": {
      "text/plain": [
       "(31463, 32, 32)"
      ]
     },
     "execution_count": 18,
     "metadata": {},
     "output_type": "execute_result"
    }
   ],
   "source": [
    "X.shape"
   ]
  },
  {
   "cell_type": "markdown",
   "id": "48d48fd3",
   "metadata": {},
   "source": [
    "_\"X.shape\" kod satırı, \"X\" değişkeninin boyut bilgisini verir. \"X\" değişkeni, bir numpy olduğu için ve numpy dizilerinin boyut bilgisi, dizinin satır sayısı ve sütun sayısı bilgilerini öğrenmek göstermek için ekrana yazdırdık._"
   ]
  },
  {
   "cell_type": "markdown",
   "id": "35906310",
   "metadata": {},
   "source": [
    "## Verileri Hazırlama "
   ]
  },
  {
   "cell_type": "code",
   "execution_count": 19,
   "id": "ce971cb5",
   "metadata": {
    "scrolled": true
   },
   "outputs": [
    {
     "name": "stdout",
     "output_type": "stream",
     "text": [
      "(31463, 1024)\n",
      "(31463,)\n"
     ]
    }
   ],
   "source": [
    "X_new = X.reshape(len(X),-1)\n",
    "print(X_new.shape)\n",
    "print(Y.shape)"
   ]
  },
  {
   "cell_type": "markdown",
   "id": "6fd03864",
   "metadata": {},
   "source": [
    "_Bu kod satırı ile \"X\" dizisini yeniden şekillendirdik ve \"Y\" dizisinin boyut bilgisini verdik._\n",
    "\n",
    "*İlk olarak, \"X_new = X.reshape(len(X),-1)\" kod satırı ile \"X\" dizisi yeniden şekillendirdik. \"X.reshape()\" fonksiyonu, bir numpy dizisinin şeklini değiştirir ve dizinin yeni şeklini belirtir. Bu fonksiyonun ilk argümanıyla dizinin satır sayısını belirttik ve ikinci argümanıyla ise dizinin sütun sayısını belirttik. \"len(X)\" ile \"X\" dizisinin satır sayısını bulduk ve \"-1\" ile sütun sayısını otomatik olarak hesapladık. Bu sayede, \"X\" dizisi tek bir satıra dönüştürüldü ve tüm elemanları tek bir sütunda toplandı.*\n",
    "\n",
    "*Sonra, \"print(X_new.shape)\" kod satırı ile \"X_new\" dizisinin boyut bilgisini verdik. Bu bilgi, \"X_new\" dizisinin satır sayısı ve sütun sayısı bilgilerini içeriyor.*\n",
    "\n",
    "_Son olarak, \"print(Y.shape)\" kod satırı ile de \"Y\" dizisinin boyut bilgisini verdik. Bu bilgi, \"Y\" dizisinin satır sayısı bilgisini içeriyor._"
   ]
  },
  {
   "cell_type": "code",
   "execution_count": 20,
   "id": "2449cc9b",
   "metadata": {},
   "outputs": [
    {
     "data": {
      "text/plain": [
       "1024"
      ]
     },
     "execution_count": 20,
     "metadata": {},
     "output_type": "execute_result"
    }
   ],
   "source": [
    "32*32"
   ]
  },
  {
   "cell_type": "code",
   "execution_count": 21,
   "id": "f882e7ee",
   "metadata": {
    "scrolled": true
   },
   "outputs": [
    {
     "name": "stdout",
     "output_type": "stream",
     "text": [
      "(31463, 32, 32)\n",
      "3\n",
      "2\n"
     ]
    }
   ],
   "source": [
    "print(X.shape)\n",
    "print(X.ndim)\n",
    "print(X_new.ndim)"
   ]
  },
  {
   "cell_type": "markdown",
   "id": "5e9ea6cf",
   "metadata": {},
   "source": [
    "*Bu kod satırı, \"X\" ve \"X_new\" dizilerinin boyut bilgisi ve boyut sayısını verir.*\n",
    "\n",
    "*İlk olarak, \"print(X.shape)\" kod satırı ile \"X\" dizisinin boyut bilgisi verdik. Bu bilgi, \"X\" dizisinin satır sayısı, sütun sayısı ve kanal sayısı bilgilerini içeriyor.*\n",
    "\n",
    "*Sonra, \"print(X.ndim)\" kod satırı ile \"X\" dizisinin boyut sayısını verdik. \"ndim\" özelliği, bir numpy dizisinin boyut sayısını verir. Örneğin, \"X\" dizisinin boyut sayısı 3 ise, bu dizinin 3 boyutlu olduğu anlamına geliyor.*\n",
    "\n",
    "*Son olarak, \"print(X_new.ndim)\" kod satırı ile \"X_new\" dizisinin boyut sayısını verdik. \"X_new\" dizisi, \"X\" dizisinin tek satıra dönüştürülmüş hali olduğundan, \"X_new\" dizisinin boyut sayısı 2 oluyor.*\n",
    "\n"
   ]
  },
  {
   "cell_type": "markdown",
   "id": "37271bce",
   "metadata": {},
   "source": [
    "## Verilerin Bölünmesi"
   ]
  },
  {
   "cell_type": "code",
   "execution_count": 22,
   "id": "b4efcaa5",
   "metadata": {},
   "outputs": [],
   "source": [
    "xtrain, xtest, ytrain, ytest = train_test_split(X_new, Y,\n",
    "                                               test_size=.20, random_state=10)"
   ]
  },
  {
   "cell_type": "markdown",
   "id": "e80bab8c",
   "metadata": {},
   "source": [
    "*Bu kod satırıyla \"X_new\" ve \"Y\" dizilerini eğitim ve test kümelerine ayırdık.*\n",
    "\n",
    "*\"train_test_split()\" fonksiyonu, veri setini eğitim ve test kümelerine ayırmak için kullanılır. Bu fonksiyonun ilk argümanı eğitim verilerini, ikinci argümanı ise hedef değişkenlerini (etiketlerini) içeren bir numpy dizisidir. Fonksiyonun üçüncü argümanı olarak \"test_size\" belirttik ve bu argümanla, test veri kümesinin veri setinin toplamının yüzde kaç olacağını belirttik. Örneğin, \"test_size=.20\" ifadesi ile test veri kümesinin veri setinin toplamının yüzde 20'si kullanılır. Dördüncü argüman olarak \"random_state\" bu argüman, eğitim ve test veri kümelerinin rastgele nasıl ayırılacağını belirtiyor.*"
   ]
  },
  {
   "cell_type": "code",
   "execution_count": 23,
   "id": "de73cdc8",
   "metadata": {},
   "outputs": [
    {
     "name": "stdout",
     "output_type": "stream",
     "text": [
      "(25170, 1024) (25170,)\n",
      "(6293, 1024) (6293,)\n"
     ]
    }
   ],
   "source": [
    "print(xtrain.shape, ytrain.shape)\n",
    "print(xtest.shape, ytest.shape)"
   ]
  },
  {
   "cell_type": "markdown",
   "id": "ac698d2b",
   "metadata": {},
   "source": [
    "*İlk olarak, \"print(xtrain.shape, ytrain.shape)\" kod satırı ile eğitim veri kümelerinin boyut bilgisini verdik. \"xtrain.shape\" ile eğitim veri kümesinin satır sayısı ve sütun sayısı bilgisi verdik, \"ytrain.shape\" ise hedef değişkenlerinin (etiketlerin) satır sayısı bilgisini verdik.*\n",
    "\n",
    "*Sonra, \"print(xtest.shape, ytest.shape)\" kod satırı ile test veri kümelerinin boyut bilgisini verdik. \"xtest.shape\" ile test veri kümesinin satır sayısı ve sütun sayısı bilgisini verdik, \"ytest.shape\" ise hedef değişkenlerin (etiketlerin) satır sayısı bilgisini verdik.*\n",
    "\n"
   ]
  },
  {
   "cell_type": "markdown",
   "id": "1f082553",
   "metadata": {},
   "source": [
    "## Ölçekleme Özelliği"
   ]
  },
  {
   "cell_type": "code",
   "execution_count": 24,
   "id": "28e6c12b",
   "metadata": {},
   "outputs": [
    {
     "name": "stdout",
     "output_type": "stream",
     "text": [
      "255\n",
      "255\n",
      "1.0\n",
      "1.0\n"
     ]
    }
   ],
   "source": [
    "print(xtrain.max())\n",
    "print(xtest.max())\n",
    "x_train = xtrain/255\n",
    "x_test = xtest/255\n",
    "print(x_train.max())\n",
    "print(x_test.max())"
   ]
  },
  {
   "cell_type": "markdown",
   "id": "a1697c3b",
   "metadata": {},
   "source": [
    "*Bu kod satırı, eğitim ve test veri kümelerinin piksel değerlerini normalize ediyor.*\n",
    "\n",
    "*İlk olarak, \"print(xtrain.max())\" ve \"print(xtest.max())\" kod satırları ile eğitim ve test veri kümelerinin en yüksek piksel değerlerini verdik. Bu değerler, görüntülerin en parlak piksellerini temsil ediyor.*\n",
    "\n",
    "*Sonra, \"x_train = xtrain/255\" ve \"x_test = xtest/255\" kod satırları ile eğitim ve test veri kümelerinin piksel değerlerini normalize ettik. Normalizasyon, veri setindeki değerlerin bir aralıkta (örneğin, 0 ile 1 arasında) değiştirilmesidir. Bu sayede, veri setindeki değerler arasındaki farklılığı azaltmayı amaçladık ve modelin eğitimini daha kolay hale getirdik. Bu kod satırlarında, eğitim ve test veri kümelerinin piksel değerleri 255'e bölündü ve bu sayede, piksel değerleri 0 ile 1 arasında normalize edilmiş oldu.*\n",
    "\n",
    "*Son olarak, \"print(x_train.max())\" ve \"print(x_test.max())\" kod satırları ile normalize edilen eğitim ve test veri kümelerinin en yüksek piksel değerlerini verdik. Bu değerler, normalizasyon işlemi sonrasında eğitim ve test veri kümelerinin en yüksek piksel değerlerini gösteriyor.*"
   ]
  },
  {
   "cell_type": "markdown",
   "id": "17f927c8",
   "metadata": {},
   "source": [
    "## Özellik Seçimi: PCA(Temel Bileşenler Analizi)"
   ]
  },
  {
   "cell_type": "code",
   "execution_count": 25,
   "id": "7d6e4c61",
   "metadata": {},
   "outputs": [],
   "source": [
    "from sklearn.decomposition import PCA"
   ]
  },
  {
   "cell_type": "markdown",
   "id": "2a6589c4",
   "metadata": {},
   "source": [
    "*\"PCA\" (Principal Component Analysis), veri setindeki değişkenler arasındaki ilişkileri açıklamaya yönelik bir boyut indirgeme yöntemidir. Bu yöntem, veri setindeki değişkenler arasındaki ilişkileri inceler ve veri setini daha az sayıda değişkene indirger. Bu sayede, veri setinin anlaşılırlığını arttırıyor ve veri setini işleme ve modelleme işlemlerini daha kolay hale getiriyor.*\n",
    "\n",
    "*\"from sklearn.decomposition import PCA\" kod satırı, \"sklearn\" (Scikit-learn) kütüphanesinden \"PCA\" sınıfını içe aktardı. Bu sayede, veri setinde \"PCA\" yöntemini kullanarak boyut indirgeme işlemlerini gerçekleştirebileceğiz.*"
   ]
  },
  {
   "cell_type": "code",
   "execution_count": 26,
   "id": "4dbc08fc",
   "metadata": {
    "scrolled": true
   },
   "outputs": [
    {
     "name": "stdout",
     "output_type": "stream",
     "text": [
      "(25170, 1024) (6293, 1024)\n",
      "(25170, 413) (6293, 413)\n",
      "0.98\n",
      "1024\n"
     ]
    }
   ],
   "source": [
    "print(x_train.shape, x_test.shape)\n",
    "pca = PCA(.98)\n",
    "xtrain = pca.fit_transform(x_train)\n",
    "xtest = pca.transform(x_test)\n",
    "print(xtrain.shape, xtest.shape)\n",
    "print(pca.n_components)\n",
    "print(pca.n_features_in_)"
   ]
  },
  {
   "cell_type": "markdown",
   "id": "7090858c",
   "metadata": {},
   "source": [
    "*Bu kod satırı ile eğitim ve test veri kümelerinde \"PCA\" yöntemini kullanarak boyut indirgeme işlemini gerçekleştirdik.*\n",
    "\n",
    "*İlk olarak, \"print(x_train.shape, x_test.shape)\" kod satırı ile eğitim ve test veri kümelerinin boyut bilgisini verdik. Bu bilgi, eğitim ve test veri kümelerinin satır sayısı ve sütun sayısı bilgisini içeriyor.*\n",
    "\n",
    "*\"pca = PCA(.98)\" kod satırı ile \"PCA\" sınıfının bir nesnesini oluşturduk. Bu nesnenin parametresi \".98\" olarak belirttik. Bu parametre, veri setinin hangi yüzdesini açıklamaya yönelik değişkenler oluşturulacağını belirtiyor. Örneğin, \".98\" parametresi kullanılırsa, veri setindeki değişkenlerin yüzde 98'ini açıklamaya yönelik değişkenler oluşturulur.*\n",
    "\n",
    "*\"xtrain = pca.fit_transform(x_train)\" kod satırı ile eğitim veri kümesinde \"PCA\" yöntemini kullanarak boyut indirgeme işlemi gerçekleştirdik. Bu işlem sonucu, eğitim veri kümesi \"pca.n_components\" sayıda değişkene indirgenmiş oldu.*\n",
    "\n",
    "*Sonra, \"xtest = pca.transform(x_test)\" kod satırı ile test veri kümesinde \"PCA\" yöntemini kullanarak boyut indirgeme işlemi gerçekleştirdik. Bu işlem sonucunda test veri kümesi \"pca.n_components\" sayıda değişkene indirgendi.*\n",
    "\n",
    "*Son olarak, \"print(xtrain.shape, xtest.shape)\" kod satırı ile indirgenmiş eğitim ve test veri kümelerinin boyut bilgisi verildi. Bu bilgi, indirgenmiş eğitim ve test veri kümelerinin satır sayısı ve sütun sayısı bilgisini veriyor. \"print(pca.n_components)\" kod satırı ile indirgenmiş veri kümelerinde kullanılan değişken sayısını yazdırdık. \"print(pca.n_features_in_)\" kod satırı ile başlangıç veri kümelerinde bulunan değişken sayısını yazdık.*"
   ]
  },
  {
   "cell_type": "code",
   "execution_count": 27,
   "id": "465aef22",
   "metadata": {},
   "outputs": [
    {
     "data": {
      "text/plain": [
       "array(['K', '8', '3', '7', '1', 'N', '6', '5', 'P', 'V', '1', 'K', 'O',\n",
       "       '2', 'L', 'K', '4', '5', 'P', 'I', 'L', 'Q', '1', '0', 'P', 'B',\n",
       "       'L', 'Z', '1', '3', '8', 'R', 'M', 'D', 'T', 'H', '9', 'D', '2',\n",
       "       'C', '0', 'D', 'A', 'G', 'Y', '4', '2', 'Y', 'P', 'Y', '0', '8',\n",
       "       'R', '1', 'I', 'G', '1', '1', 'A', 'D', 'N', 'S', 'K', 'G', '6',\n",
       "       'W', 'L', 'I', 'I', 'C', 'K', 'T', '5', '4', 'A', '6', 'O', 'N',\n",
       "       'H', 'D', 'V', '4', 'A', 'Z', 'F', 'N', '5', '4', '3', '8', '1',\n",
       "       '6', 'A', 'E', 'G', 'H', '8', 'O', 'K', 'F', 'A', 'G', 'G', 'N',\n",
       "       '2', 'E', 'F', '1', 'U', '9', 'U', '4', '0', 'F', '9', '7', 'G',\n",
       "       'T', 'O', '4', '6', 'C', '3', '6', '6', 'T', '8', 'W', '1', 'J',\n",
       "       '2', 'G', 'T', 'K', 'S', '4', 'H', 'H', '1', 'F', 'Q', 'Z', 'D',\n",
       "       'O', '7', 'B', '9', 'W', 'E', '0', 'F', 'A', 'Z', 'A', '3', 'W',\n",
       "       'K', 'T', '8', 'G', '3', '0', 'S', '3', '8', '6', '3', 'D', 'S',\n",
       "       'A', 'E', 'T', 'Q', '2', '9', 'Y', '0', '5', 'M', '2', '1', '8',\n",
       "       'J', 'B', 'N', 'P', '2', 'F', 'G', 'V', 'Z', 'M', 'G', '9', 'Y',\n",
       "       '3', 'W', 'F', '3', 'L', '0', 'Z', 'H', 'V', 'O', 'C', '5', '1',\n",
       "       'G', 'H', 'M', 'E', 'N', 'P', '4', 'Q', 'R', '2', 'G', 'V', '5',\n",
       "       '6', 'H', 'Y', '0', 'O', 'J', '5', 'M', '8', 'T', 'D', 'K', 'N',\n",
       "       '3', '8', '1', 'Q', 'D', 'D', '4', 'D', 'R', '8', 'E', 'C', '3',\n",
       "       'P', 'B', '3', 'B', '2', 'L', '4', 'R', 'M', '9', 'G', '6', 'S',\n",
       "       'T', 'Y', 'I', 'W', '3', '3', 'L', 'O', '5', 'G', '5', '1', '4',\n",
       "       'N', '5', '0', '4', 'A', 'Q', 'R', 'M', 'K', '9', '1', 'Q', 'L',\n",
       "       'K', 'I', 'A', '5', 'M', '0', '3', '1', 'A', 'A', 'B', 'T', 'Q',\n",
       "       'G', 'F', '8', '5', '2', '6', 'M', '1', '1', 'W', 'B', '1', '1',\n",
       "       'P', 'F', '4', 'B', '5', '7', '8', '6', '1', 'N', 'B', '8', 'R',\n",
       "       'T', 'A', '4', '0', 'V', 'I', '6', 'Q', 'I', 'Q', 'V', 'G', '5',\n",
       "       '5', 'H', '9', 'I', '4', 'Q', '1', '4', 'I', '5', '5', 'O', 'U',\n",
       "       'P', 'P', 'Q', 'Y', '0', 'M', 'T', 'P', 'R', 'G', '6', '1', 'F',\n",
       "       'K', 'J', 'C', 'L', '6', '8', 'L', 'T', '7', '5', 'A', 'S', '9',\n",
       "       'N', 'O', 'I', '1', 'P', 'G', 'I', 'F', '4', 'A', 'A', 'V', 'I',\n",
       "       '3', 'A', '3', 'G', 'E', '5', '9', 'G', 'J', 'J', 'Q', 'C', '3',\n",
       "       'U', 'K', '2', 'S', 'S', '6', 'L', '0', '4', 'B', 'S', 'B', 'Q',\n",
       "       'V', 'F', 'U', 'Y', '2', 'Z', '6', 'V', '8', '4', 'U', 'F', '3',\n",
       "       'Q', 'S', 'D', '4', 'G', '8', '2', '2', 'C', '2', 'N', 'Z', '0',\n",
       "       'N', 'I', 'G', '8', 'L', '1', '5', 'U', 'A', 'K', 'U', '6', 'V',\n",
       "       'A', 'P', 'F', '0', '6', 'G', 'L', 'K', 'G', '1', 'B', 'Q', '8',\n",
       "       'I', 'Q', 'F', 'Q', 'C', '9', 'B', 'G', 'A', 'Y', 'B', 'W', 'Y',\n",
       "       '4', '9', 'O', 'Z', 'D', 'I', 'V', 'E', '5', 'P', 'D', 'Z', 'F',\n",
       "       'O', '1', '0', 'J', 'K', '6', '1', 'E', '5', 'Z', 'S', 'D', 'G',\n",
       "       '5', '0', 'O', '5', '1', 'O', '9', 'T', '6', '0', 'V', 'M', '0',\n",
       "       '4', '9', '6', '2', '1', '9', 'T', 'P', '8', '7', 'S', '4', '0',\n",
       "       '6', '2', '6', 'W', 'M', '4', '0', 'L', '7', '4', 'E', 'Q', 'D',\n",
       "       '6', '4', 'A', '8', '5', 'R', 'V', 'U', 'R', '3', '4', '0', '4',\n",
       "       '0', '9', '1', '8', 'D', 'R', 'M', '1', 'S', '1', '2', 'Z', '0',\n",
       "       'F', 'V', 'Y', 'H', 'I', '5', 'H', 'F', '1', 'S', 'R', '9', '8',\n",
       "       '1', '7', 'Z', 'Q', 'A', '2', 'P', '8', 'L', '7', 'Y', 'T', 'U',\n",
       "       'N', '2', 'T', 'I', 'A', '0', '5', 'G', '1', 'K', 'B', '9', 'V',\n",
       "       '1', 'Y', 'F', 'Y', '3', 'P', '5', 'G', 'Y', '1', '1', 'F', 'B',\n",
       "       'I', '0', 'I', 'B', 'F', '9', '6', 'I', 'Y', '0', '3', 'W', '1',\n",
       "       'N', 'B', 'D', '9', '8', 'C', '4', '5', 'G', '1', '1', 'T', 'Z',\n",
       "       '1', '5', '4', '1', 'I', 'Z', 'U', 'H', '0', '5', 'A', 'O', 'N',\n",
       "       'Z', 'K', 'D', 'H', 'U', '4', '0', '2', 'D', '0', '8', 'P', 'T',\n",
       "       '6', '5', '4', 'W', 'F', '8', '2', '9', 'B', 'B', 'Y', '6', 'O',\n",
       "       '4', '5', '4', '1', '2', 'F', '3', 'S', 'S', '4', '3', 'Q', '1',\n",
       "       'P', 'D', '3', 'Z', 'E', 'A', 'S', 'S', '3', 'F', '2', 'V', 'A',\n",
       "       'Z', 'H', 'Y', 'N', 'A', 'H', '3', 'R', '2', 'A', 'O', 'B', 'P',\n",
       "       '6', '6', '5', 'H', 'A', '6', '2', 'R', 'G', 'N', '2', 'G', 'G',\n",
       "       'I', 'C', '0', '6', 'I', 'K', 'F', 'R', 'Y', '6', '8', '1', 'C',\n",
       "       '3', 'B', '9', 'Y', '9', 'W', 'S', 'I', '8', 'G', 'L', '8', 'G',\n",
       "       '8', 'G', 'R', '1', 'S', '1', '9', '1', '8', 'D', 'O', '4', '1',\n",
       "       'O', '2', 'F', 'I', '3', '3', 'M', '2', '1', '6', '4', 'O', '6',\n",
       "       'B', '2', 'V', 'R', '1', 'Z', 'B', '1', '3', 'E', '9', '8', 'O',\n",
       "       'Y', 'T', '2', '8', '9', '6', '0', '2', 'H', '3', '5', '4', 'H',\n",
       "       '6', 'Q', 'S', '3', 'N', 'P', 'F', '0', 'R', 'N', 'B', 'Y', 'T',\n",
       "       '4', 'T', '3', 'Y', '4', 'Y', 'M', 'J', '3', 'U', 'U', '3', 'W',\n",
       "       '8', '2', 'H', '1', '3', '9', 'K', 'G', 'F', 'M', '4', 'O', '1',\n",
       "       '5', 'K', '3', '0', 'N', 'T', '6', 'R', '5', '4', '6', 'I', '8',\n",
       "       'W', '8', 'W', 'K', '6', '6', 'K', 'R', '4', 'Y', 'I', 'A', 'C',\n",
       "       'Z', '9', 'M', 'E', '6', '5', '5', '1', 'G', '9', '8', '3', 'T',\n",
       "       'T', 'D', '7', '1', 'O', 'N', '8', 'K', 'J', '2', '2', 'J', '5',\n",
       "       'K', 'I', 'L', '5', '4', 'U', 'F', 'W', 'V', 'J', 'T', '6', 'L',\n",
       "       '3', 'J', '5', 'T', 'W', 'O', 'D', 'G', '9', 'I', 'R', 'A', 'F',\n",
       "       'M', '8', 'V', 'I', 'M', '2', 'D', 'G', 'C', 'H', '6', '0', 'O',\n",
       "       'B', 'M', 'C', 'U', '0', '6', '0', 'Z', '3', 'T', 'H', '6', '3',\n",
       "       '0', 'M', '5', 'A', '4', 'O', '4', 'U', '9', 'F', 'T', 'Q', 'G',\n",
       "       '3', 'N', '6', 'S', 'D', 'Z', '0', 'A', '1', 'Z', 'R', 'P', 'I',\n",
       "       '2', '5', 'W', 'A', '1', 'W', 'J', '5', '9', '3', 'V', '8'],\n",
       "      dtype='<U11')"
      ]
     },
     "execution_count": 27,
     "metadata": {},
     "output_type": "execute_result"
    }
   ],
   "source": [
    "ytest[:1000]"
   ]
  },
  {
   "cell_type": "markdown",
   "id": "92e781d1",
   "metadata": {},
   "source": [
    "*\"ytest[:1000]\" kod satırı, test veri kümesinin etiketlerini (y labels) içeren liste döndürüyor. Bu kod satırı, \"ytest\" listesinin ilk 1000 elemanını alıyor. Bu elemanlar, test veri kümesinin ilk 1000 görüntüsünün etiketlerini temsil ediyor.*\n",
    "\n",
    "*Etiketler, veri kümelerinde her bir görüntünün hangi sınıfa ait olduğunu belirtir. Örneğin, eğer veri kümesi el yazısı harflerden oluşuyorsa, her bir görüntünün etiketi bir harf olabilir. Bu etiketler, veri kümesini sınıflara ayırmak için kullandık ve modelin eğitimi sırasında sınıflar arasındaki farklılıkları öğrenmesine yardımcı olduk.*"
   ]
  },
  {
   "cell_type": "markdown",
   "id": "4c0cd1fe",
   "metadata": {},
   "source": [
    "## Öğrenme Modeli"
   ]
  },
  {
   "cell_type": "code",
   "execution_count": 28,
   "id": "08d4b1f0",
   "metadata": {
    "scrolled": true
   },
   "outputs": [
    {
     "data": {
      "text/html": [
       "<style>#sk-container-id-1 {color: black;background-color: white;}#sk-container-id-1 pre{padding: 0;}#sk-container-id-1 div.sk-toggleable {background-color: white;}#sk-container-id-1 label.sk-toggleable__label {cursor: pointer;display: block;width: 100%;margin-bottom: 0;padding: 0.3em;box-sizing: border-box;text-align: center;}#sk-container-id-1 label.sk-toggleable__label-arrow:before {content: \"▸\";float: left;margin-right: 0.25em;color: #696969;}#sk-container-id-1 label.sk-toggleable__label-arrow:hover:before {color: black;}#sk-container-id-1 div.sk-estimator:hover label.sk-toggleable__label-arrow:before {color: black;}#sk-container-id-1 div.sk-toggleable__content {max-height: 0;max-width: 0;overflow: hidden;text-align: left;background-color: #f0f8ff;}#sk-container-id-1 div.sk-toggleable__content pre {margin: 0.2em;color: black;border-radius: 0.25em;background-color: #f0f8ff;}#sk-container-id-1 input.sk-toggleable__control:checked~div.sk-toggleable__content {max-height: 200px;max-width: 100%;overflow: auto;}#sk-container-id-1 input.sk-toggleable__control:checked~label.sk-toggleable__label-arrow:before {content: \"▾\";}#sk-container-id-1 div.sk-estimator input.sk-toggleable__control:checked~label.sk-toggleable__label {background-color: #d4ebff;}#sk-container-id-1 div.sk-label input.sk-toggleable__control:checked~label.sk-toggleable__label {background-color: #d4ebff;}#sk-container-id-1 input.sk-hidden--visually {border: 0;clip: rect(1px 1px 1px 1px);clip: rect(1px, 1px, 1px, 1px);height: 1px;margin: -1px;overflow: hidden;padding: 0;position: absolute;width: 1px;}#sk-container-id-1 div.sk-estimator {font-family: monospace;background-color: #f0f8ff;border: 1px dotted black;border-radius: 0.25em;box-sizing: border-box;margin-bottom: 0.5em;}#sk-container-id-1 div.sk-estimator:hover {background-color: #d4ebff;}#sk-container-id-1 div.sk-parallel-item::after {content: \"\";width: 100%;border-bottom: 1px solid gray;flex-grow: 1;}#sk-container-id-1 div.sk-label:hover label.sk-toggleable__label {background-color: #d4ebff;}#sk-container-id-1 div.sk-serial::before {content: \"\";position: absolute;border-left: 1px solid gray;box-sizing: border-box;top: 0;bottom: 0;left: 50%;z-index: 0;}#sk-container-id-1 div.sk-serial {display: flex;flex-direction: column;align-items: center;background-color: white;padding-right: 0.2em;padding-left: 0.2em;position: relative;}#sk-container-id-1 div.sk-item {position: relative;z-index: 1;}#sk-container-id-1 div.sk-parallel {display: flex;align-items: stretch;justify-content: center;background-color: white;position: relative;}#sk-container-id-1 div.sk-item::before, #sk-container-id-1 div.sk-parallel-item::before {content: \"\";position: absolute;border-left: 1px solid gray;box-sizing: border-box;top: 0;bottom: 0;left: 50%;z-index: -1;}#sk-container-id-1 div.sk-parallel-item {display: flex;flex-direction: column;z-index: 1;position: relative;background-color: white;}#sk-container-id-1 div.sk-parallel-item:first-child::after {align-self: flex-end;width: 50%;}#sk-container-id-1 div.sk-parallel-item:last-child::after {align-self: flex-start;width: 50%;}#sk-container-id-1 div.sk-parallel-item:only-child::after {width: 0;}#sk-container-id-1 div.sk-dashed-wrapped {border: 1px dashed gray;margin: 0 0.4em 0.5em 0.4em;box-sizing: border-box;padding-bottom: 0.4em;background-color: white;}#sk-container-id-1 div.sk-label label {font-family: monospace;font-weight: bold;display: inline-block;line-height: 1.2em;}#sk-container-id-1 div.sk-label-container {text-align: center;}#sk-container-id-1 div.sk-container {/* jupyter's `normalize.less` sets `[hidden] { display: none; }` but bootstrap.min.css set `[hidden] { display: none !important; }` so we also need the `!important` here to be able to override the default hidden behavior on the sphinx rendered scikit-learn.org. See: https://github.com/scikit-learn/scikit-learn/issues/21755 */display: inline-block !important;position: relative;}#sk-container-id-1 div.sk-text-repr-fallback {display: none;}</style><div id=\"sk-container-id-1\" class=\"sk-top-container\"><div class=\"sk-text-repr-fallback\"><pre>LogisticRegression(max_iter=1000)</pre><b>In a Jupyter environment, please rerun this cell to show the HTML representation or trust the notebook. <br />On GitHub, the HTML representation is unable to render, please try loading this page with nbviewer.org.</b></div><div class=\"sk-container\" hidden><div class=\"sk-item\"><div class=\"sk-estimator sk-toggleable\"><input class=\"sk-toggleable__control sk-hidden--visually\" id=\"sk-estimator-id-1\" type=\"checkbox\" checked><label for=\"sk-estimator-id-1\" class=\"sk-toggleable__label sk-toggleable__label-arrow\">LogisticRegression</label><div class=\"sk-toggleable__content\"><pre>LogisticRegression(max_iter=1000)</pre></div></div></div></div></div>"
      ],
      "text/plain": [
       "LogisticRegression(max_iter=1000)"
      ]
     },
     "execution_count": 28,
     "metadata": {},
     "output_type": "execute_result"
    }
   ],
   "source": [
    "log = LogisticRegression(solver='lbfgs', max_iter=1000)\n",
    "log.fit(xtrain, ytrain)"
   ]
  },
  {
   "cell_type": "markdown",
   "id": "449cafd3",
   "metadata": {},
   "source": [
    "*Bu kod satırıyla \"Logistic Regression\" (Lojistik Regresyon) modelini eğitiyoruz. Lojistik Regresyon, çok sınıflı sınıflandırma (multiclass classification) problemlerinde kullanılan bir model türüdür. Bu model, veri kümesinde bulunan özellikleri (features) kullanarak, her bir görüntünün hangi sınıfa ait olduğunu tahmin etmeye çalışır.*\n",
    "\n",
    "*İlk olarak, \"log = LogisticRegression(solver='lbfgs', max_iter=1000)\" kod satırı ile \"LogisticRegression\" sınıfından bir nesne oluşturduk. Bu nesne, \"solver='lbfgs'\" ve \"max_iter=1000\" parametreleriyle birlikte oluşturuldu. \"solver\" parametresi, modelin ağırlıklarını nasıl optimize edeceğini belirtiyor. \"lbfgs\" değeri, modelin ağırlıklarını \"Limited-memory BFGS\" (BFGS: Broyden–Fletcher–Goldfarb–Shanno) algoritmasını kullanarak optimize edilmesini belirtiyor. \"max_iter\" parametresi ise, modelin en fazla kaç iterasyon (adım) yapacağını belirtiyor.*\n",
    "\n",
    "*Sonra, \"log.fit(xtrain, ytrain)\" kod satırı ile model eğitimi gerçekleştirdik. Bu kod satırında, \"fit()\" fonksiyonu ile model eğitiliyor. Bu fonksiyonun ilk argümanı \"xtrain\" (indirgenmiş eğitim veri kümesi), ikinci argümanı ise \"ytrain\" (eğitim veri kümesinin etiketleri) olarak verdik. Bu sayede, model \"xtrain\" veri kümesindeki özellikleri kullanarak, \"ytrain\" veri kümesindeki etiketleri tahmin etmeye çalışıyor. Model, bu tahminlerini yaparken, veri kümesindeki özellikler arasındaki ilişkileri öğreniyor. Model öğrendiği ilişkileri kullanarak, yeni görüntüler için etiket tahminleri yapmaya çalışıyor.*\n",
    "\n",
    "*Sonra, modelin tahmin performansını ölçmek için \"accuracy_score\" fonksiyonunu kullandık. Bu fonksiyon, verilen tahminler ile gerçek etiketler arasındaki uyum oranını hesaplıyor ve bu oranı yüzde olarak döndürüyor. Eğer tüm tahminler doğru ise, bu fonksiyon %100 oranını döndürür. Eğer tüm tahminler yanlış ise, %0 oranını döndürür.*\n",
    "\n",
    "*\"predictions = log.predict(xtest)\" kod satırında, model \"xtest\" veri kümesindeki görüntülerin etiketlerini tahmin etmeye çalışıyor. Bu tahminleri \"predictions\" değişkenine atadık.*\n",
    "\n",
    "*\"accuracy = accuracy_score(ytest, predictions)\" kod satırında, \"accuracy_score()\" fonksiyonu ile tahminlerin doğruluk oranını hesaplıyoruz. Bu fonksiyonun ilk argümanı \"ytest\" (test veri kümesinin etiketleri), ikinci argümanı ise \"predictions\" (modelin tahminleri) olarak veriliyor. Bu sayede, \"accuracy_score()\" fonksiyonu \"ytest\" ve \"predictions\" değişkenleri arasındaki uyum oranını hesaplayıp ve \"accuracy\" değişkenine atıyoruz.*\n",
    "\n",
    "*Son olarak, \"print('Modelin doğruluk oranı:', accuracy)\" kod satırı ile modelin doğruluk oranını ekrana yazdırıyoruz.*"
   ]
  },
  {
   "cell_type": "markdown",
   "id": "37ede995",
   "metadata": {},
   "source": [
    "## Tahmin Etme"
   ]
  },
  {
   "cell_type": "code",
   "execution_count": 29,
   "id": "05a315f1",
   "metadata": {},
   "outputs": [
    {
     "name": "stdout",
     "output_type": "stream",
     "text": [
      "['R' '8' 'J' ... 'S' '0' '6']\n"
     ]
    },
    {
     "data": {
      "text/plain": [
       "numpy.str_"
      ]
     },
     "execution_count": 29,
     "metadata": {},
     "output_type": "execute_result"
    }
   ],
   "source": [
    "tr_pred = log.predict(xtrain)\n",
    "ts_pred = log.predict(xtest)\n",
    "print(ts_pred)\n",
    "type(ts_pred[1])"
   ]
  },
  {
   "cell_type": "markdown",
   "id": "c0a5265c",
   "metadata": {},
   "source": [
    "*Bu kod satırlarında, modelin eğitim veri kümesindeki görüntüler için yaptığı tahminleri \"tr_pred\" değişkenine, test veri kümesindeki görüntüler için yaptığı tahminler ise \"ts_pred\" değişkenine atıyoruz.*\n",
    "\n",
    "*\"tr_pred = log.predict(xtrain)\" kod satırında, \"predict()\" fonksiyonu ile model \"xtrain\" veri kümesindeki görüntülerin etiketlerini tahmin etmeye çalışıyor. Bu tahminleri \"tr_pred\" değişkenine atadık.*\n",
    "\n",
    "*\"ts_pred = log.predict(xtest)\" kod satırında ise, \"predict()\" fonksiyonu ile model \"xtest\" veri kümesindeki görüntülerin etiketlerini tahmin etmeye çalışıyor. Bu tahminleri \"ts_pred\" değişkenine atadık.*\n",
    "\n",
    "*\"print(ts_pred)\" kod satırında ise, \"ts_pred\" değişkeninin içeriğini ekrana yazdırdık. Bu sayede, modelin test veri kümesindeki görüntüler için yaptığı tahminleri gösterdik.*\n",
    "\n",
    "*Son olarak, \"type(ts_pred[1])\" kod satırında, \"ts_pred[1]\" değişkeninin veri türü öğreniliyor. Bu değişkenin veri türünü, ekrana yazdırılarak gösterdik.*"
   ]
  },
  {
   "cell_type": "markdown",
   "id": "fbe708ca",
   "metadata": {},
   "source": [
    "## Doğru Tahmin Ölçümü"
   ]
  },
  {
   "cell_type": "code",
   "execution_count": 30,
   "id": "96b22854",
   "metadata": {},
   "outputs": [
    {
     "name": "stdout",
     "output_type": "stream",
     "text": [
      "Öğrenme Skoru: 0.8252681764004768\n",
      "Test Skoru: 0.7115843000158907\n"
     ]
    }
   ],
   "source": [
    "print(\"Öğrenme Skoru:\", accuracy_score(ytrain,tr_pred))\n",
    "print(\"Test Skoru:\", accuracy_score(ytest,ts_pred))"
   ]
  },
  {
   "cell_type": "markdown",
   "id": "19f4e9e3",
   "metadata": {},
   "source": [
    "*Bu kod satırlarında, modelin eğitim ve test veri kümelerinde yaptığı tahminlerin doğruluk oranlarını hesaplıyoruz ve ekrana yazdırıyoruz. Karakterlerin hepsini dahil etmeden belli karaktere kadar denediğimizde skor yüzdemiz daha yüksekti, ancak datasetimiz içerisinde 30 bini aşkın veri bulunmakta ve bu veriler farklı yazım şekillerinde olduğu için doğru tahmin oranımızı düşürdü. Ayrıca genellikle yapılan projeler yalnızca harf veya yalnızca rakamları içeriyor, biz içine rakamları ve Türkçe karakterleri de ekleyince doğruluk oranımız biraz daha düştü. Oranı yükseltmek ve makinenin öğrenimini kolaylaştırmak için Türkçe karakterleri çıkartmak zorunda kaldık.*\n",
    "\n",
    "*\"Öğrenme Skoru\" ve \"Test Skoru\" ifadeleri, ekrana yazdırdığımız mesajların başlıklarıdır ve modelin eğitim ve test veri kümelerinde yaptığı tahminlerin doğruluk oranlarını gösteriyor.*\n",
    "\n",
    "*\"print(\"Öğrenme Skoru\", accuracy_score(ytrain,tr_pred))\" kod satırında, \"accuracy_score()\" fonksiyonu ile modelin eğitim veri kümesindeki görüntüler için yaptığı tahminlerin doğruluk oranını hesaplıyoruz. Bu fonksiyonun ilk argümanı \"ytrain\" (eğitim veri kümesinin etiketleri), ikinci argümanı ise \"tr_pred\" (modelin eğitim veri kümesindeki görüntüler için yaptığı tahminler) olarak verdik. Bunun sonucunda, \"accuracy_score()\" fonksiyonu \"ytrain\" ve \"tr_pred\" değişkenleri arasındaki uyum oranınını hesapladık ve \"Öğrenme Skoru\" mesajı ile birlikte ekrana yazdırdık.*\n",
    "\n",
    "*\"print(\"Test Skoru\", accuracy_score(ytest,ts_pred))\" kod satırında ise, \"accuracy_score()\" fonksiyonu ile modelin test veri kümesindeki görüntüler için yaptığı tahminlerin doğruluk oranını hesapladık. Bu fonksiyonun ilk argümanı \"ytest\" (test veri kümesinin etiketleri), ikinci argümanı ise \"ts_pred\" (modelin test veri kümesindeki görüntüler için yaptığı tahminler) olarak verdik. Bununla birlikte \"accuracy_score()\" fonksiyonunun \"ytest\" ve \"ts_pred\" değişkenleri arasındaki uyum oranını hesapladık ve \"Test Skoru\" mesajı ile birlikte ekrana yazdırdık.*"
   ]
  },
  {
   "cell_type": "code",
   "execution_count": 31,
   "id": "5bfb7683",
   "metadata": {},
   "outputs": [
    {
     "name": "stdout",
     "output_type": "stream",
     "text": [
      "K\n"
     ]
    },
    {
     "data": {
      "image/png": "[encoded data removed]",
      "text/plain": [
       "<Figure size 640x480 with 1 Axes>"
      ]
     },
     "metadata": {},
     "output_type": "display_data"
    }
   ],
   "source": [
    "plt.imshow(x_test[0].reshape(32,32), cmap='gray')\n",
    "print(ytest[0])"
   ]
  },
  {
   "cell_type": "markdown",
   "id": "812aa50d",
   "metadata": {},
   "source": [
    "*Bu kod satırında, \"x_test[0]\" adresinde saklanan görüntünün resmini ekrana gösterdik ve görüntünün etiketini de yazdırmış olduk.*\n",
    "\n",
    "*\"plt.imshow()\" fonksiyonu, bir görüntüyü ekrana göstermek için kullanılır. Bu fonksiyonun ilk argümanıyla gösterilecek görüntüyü numpy dizisi olarak verdik. \"cmap='gray'\" argümanı, görüntüyü siyah tonlarında gösterdik.*\n",
    "\n",
    "*\"x_test[0]\" ifadesi, test veri kümesinin 0. indisteki görüntüyü gösteriyor. Bu görüntü, \"x_test\" değişkenine atamış olduğumuz numpy dizisinin bir öğesidir ve 32x32 boyutlarındadır. Ancak, \"plt.imshow()\" fonksiyonu sadece tek boyutlu dizileri kabul ediyor. Bu nedenle, \"x_test[0]\" dizisi \"reshape()\" fonksiyonu ile 32x32 boyutlarına tekrar düzenleyip ve \"plt.imshow()\" fonksiyonuna argüman olarak verdik.*\n",
    "\n",
    "*\"print(ytest[0])\" kod satırında ise, \"ytest\" değişkeninin 0. indisteki etiketini yazdırdık. Bu etiket, \"ytest\" değişkenine atamış olduğumuz numpy dizisinin bir öğesidir ve gösterilen görüntünün hangi sınıfa ait olduğunu belirtiyor.*"
   ]
  },
  {
   "cell_type": "markdown",
   "id": "fb747849",
   "metadata": {},
   "source": [
    "## Test  Modeli "
   ]
  },
  {
   "cell_type": "code",
   "execution_count": 32,
   "id": "21c34494",
   "metadata": {},
   "outputs": [
    {
     "data": {
      "image/png": "[encoded data removed]",
      "text/plain": [
       "<Figure size 640x480 with 25 Axes>"
      ]
     },
     "metadata": {},
     "output_type": "display_data"
    }
   ],
   "source": [
    "decode = {'0':0,'1':1,'2':2,'3':3,'4':4,'5':5,'6':6,'7':7,'8':8,'9':9,'A':'A','B':'B','C':'C','D':'D','E':'E', \n",
    "        'F':'F','G':'G','H':'H','I':'I','J':'J','K':'K','L':'L','M':'M', 'N':'N','O':'O','P':'P','Q':'Q','R':'R',\n",
    "        'S':'S','T':'T','U':'U','V':'V','W':'W','Y':'Y','Z':'Z'}\n",
    "for i in range(25):\n",
    "    plt.subplot(5,5,i+1)\n",
    "    plt.imshow(x_test[i].reshape(32,32),cmap='gray')\n",
    "    title = str(decode[str(ts_pred[i])])\n",
    "    plt.title(title)\n",
    "    plt.subplots_adjust(left=0.1,\n",
    "                       bottom=0.1,\n",
    "                       right=1,\n",
    "                       top=0.9,\n",
    "                       wspace=0.3,\n",
    "                       hspace=0.6)\n",
    "   # plt.title(decode[ts_pred[i]])\n",
    "    plt.axis('off')"
   ]
  },
  {
   "cell_type": "markdown",
   "id": "4b269f74",
   "metadata": {},
   "source": [
    "*Bu kod satırlarında, test datasetinden 25 adet görüntünün resmini ekrana gösterdik ve görüntülerin tahmin edilen sınıflarını  her bir görüntünün üstüne yazdırdık.*\n",
    "\n",
    "*Öncelikle, \"decode\" adında bir sözlük oluşturduk. Bu sözlükte, her bir sınıf için bir anahtar ve değer oluşturduk. Anahtar, sınıfı temsil eden bir harf ve sayıdır, değer ise bu harfin karşılığı olan sayıdır veya harfttir. Bu sözlüğü, daha sonra ekrana yazdıracağımız sınıf etiketlerini harf veya sayılara çevirmek için kullanacağız.*\n",
    "\n",
    "*Daha sonra, \"for\" döngüsü kullanarak 25 adet görüntü için bir ekran parçası oluşturduk. \"plt.subplot()\" fonksiyonu, birden fazla görüntüyü aynı ekranda göstermek için kullanılır. Bu fonksiyonun ilk argümanı, kaç satır kaç sütundan oluşan bir düzen oluşturulacağını belirtiyor. İkinci argüman ise, oluşturulan düzenin hangi sıradaki ekran parçasına veri gösterileceğini belirtiyor. Bu örnekte, 5 satır ve 5 sütunluk bir düzen oluşturduk ve döngüde kaçıncı görüntünün ekrana gösterileceğini belirttik.*\n",
    "\n",
    "*\"plt.imshow()\" fonksiyonu ile, görüntüyü ekranda gösterdik. Bu fonksiyonun ilk argümanı olarak, düzenlenmiş \"x_test[i]\" görüntüsünü verdik. \"cmap='gray'\" argümanı ile de, görüntüyü gri-siyah tonları olarak gösterdik.*\n",
    "\n",
    "*Daha sonra, görüntünün öngörülen sınıfını harf karşılığı olarak \"title\" değişkenine atadık. Bu değişken, \"decode\" sözlüğü kullanılarak karakterler karşılığı olan karakterlere çevrilir. Son olarak, \"plt.title()\" fonksiyonu ile ekrana yazdırdık.*"
   ]
  },
  {
   "cell_type": "code",
   "execution_count": 33,
   "id": "fc614067",
   "metadata": {},
   "outputs": [
    {
     "data": {
      "text/html": [
       "<div>\n",
       "<style scoped>\n",
       "    .dataframe tbody tr th:only-of-type {\n",
       "        vertical-align: middle;\n",
       "    }\n",
       "\n",
       "    .dataframe tbody tr th {\n",
       "        vertical-align: top;\n",
       "    }\n",
       "\n",
       "    .dataframe thead th {\n",
       "        text-align: right;\n",
       "    }\n",
       "</style>\n",
       "<table border=\"1\" class=\"dataframe\">\n",
       "  <thead>\n",
       "    <tr style=\"text-align: right;\">\n",
       "      <th></th>\n",
       "      <th>Gercek</th>\n",
       "      <th>Tahmin</th>\n",
       "    </tr>\n",
       "  </thead>\n",
       "  <tbody>\n",
       "    <tr>\n",
       "      <th>0</th>\n",
       "      <td>K</td>\n",
       "      <td>R</td>\n",
       "    </tr>\n",
       "    <tr>\n",
       "      <th>2</th>\n",
       "      <td>3</td>\n",
       "      <td>J</td>\n",
       "    </tr>\n",
       "    <tr>\n",
       "      <th>6</th>\n",
       "      <td>6</td>\n",
       "      <td>I</td>\n",
       "    </tr>\n",
       "    <tr>\n",
       "      <th>11</th>\n",
       "      <td>K</td>\n",
       "      <td>Q</td>\n",
       "    </tr>\n",
       "    <tr>\n",
       "      <th>13</th>\n",
       "      <td>2</td>\n",
       "      <td>K</td>\n",
       "    </tr>\n",
       "    <tr>\n",
       "      <th>...</th>\n",
       "      <td>...</td>\n",
       "      <td>...</td>\n",
       "    </tr>\n",
       "    <tr>\n",
       "      <th>6277</th>\n",
       "      <td>5</td>\n",
       "      <td>F</td>\n",
       "    </tr>\n",
       "    <tr>\n",
       "      <th>6280</th>\n",
       "      <td>L</td>\n",
       "      <td>M</td>\n",
       "    </tr>\n",
       "    <tr>\n",
       "      <th>6281</th>\n",
       "      <td>Y</td>\n",
       "      <td>3</td>\n",
       "    </tr>\n",
       "    <tr>\n",
       "      <th>6286</th>\n",
       "      <td>Z</td>\n",
       "      <td>G</td>\n",
       "    </tr>\n",
       "    <tr>\n",
       "      <th>6288</th>\n",
       "      <td>4</td>\n",
       "      <td>F</td>\n",
       "    </tr>\n",
       "  </tbody>\n",
       "</table>\n",
       "<p>1815 rows × 2 columns</p>\n",
       "</div>"
      ],
      "text/plain": [
       "     Gercek Tahmin\n",
       "0         K      R\n",
       "2         3      J\n",
       "6         6      I\n",
       "11        K      Q\n",
       "13        2      K\n",
       "...     ...    ...\n",
       "6277      5      F\n",
       "6280      L      M\n",
       "6281      Y      3\n",
       "6286      Z      G\n",
       "6288      4      F\n",
       "\n",
       "[1815 rows x 2 columns]"
      ]
     },
     "execution_count": 33,
     "metadata": {},
     "output_type": "execute_result"
    }
   ],
   "source": [
    "np.where(ts_pred!=ytest)\n",
    "d = pd.DataFrame({'Gercek':ytest, 'Tahmin':ts_pred})\n",
    "d[d['Gercek']!=d['Tahmin']]"
   ]
  },
  {
   "cell_type": "markdown",
   "id": "6e6b665e",
   "metadata": {},
   "source": [
    "*Bu kod bloğu ile tahmin edilen sınıfların gerçek sınıflarla karşılaştırılmasını yaptık. Öncelikle, gerçek sınıflar ve tahmin edilen sınıfların bir NumPy dizisi olarak saklandığı ytest ve ts_pred değişkenlerinden oluşan bir NumPy dizisi oluşturduk. Bu dizideki değerlerin eşleşip eşleşmediğini, \"ts_pred!=ytest\" ifadesiyle kontrol ettik. Eşleşmeyen değerlerin indekslerini, \"np.where()\" fonksiyonuyla bulduk. Daha sonra, bu indeksleri kullanarak gerçek ve tahmin edilen sınıfların bir Pandas veri çerçevesini oluşturduk ve veri çerçevesinde eşleşmeyen değerleri seçilerek gösterdik. Bu kod bloğunu, tahmin edilen sınıfların gerçek sınıflarla ne kadar benzer olduğunu ölçmek için kullanıyoruz.*"
   ]
  },
  {
   "cell_type": "markdown",
   "id": "d2c71e69",
   "metadata": {},
   "source": [
    "## Gerçek Veriler Üzerinde Test Etme"
   ]
  },
  {
   "cell_type": "code",
   "execution_count": 34,
   "id": "e2304df5",
   "metadata": {},
   "outputs": [
    {
     "data": {
      "text/plain": [
       "<matplotlib.image.AxesImage at 0x2461c8d4460>"
      ]
     },
     "execution_count": 34,
     "metadata": {},
     "output_type": "execute_result"
    },
    {
     "data": {
      "image/png": "[encoded data removed]",
      "text/plain": [
       "<Figure size 640x480 with 1 Axes>"
      ]
     },
     "metadata": {},
     "output_type": "display_data"
    }
   ],
   "source": [
    "img = cv2.resize(cv2.imread('adeneme.jpg',0), (32,32))\n",
    "plt.imshow(img,cmap='gray')"
   ]
  },
  {
   "cell_type": "markdown",
   "id": "932005a0",
   "metadata": {},
   "source": [
    "*Bu kod satırıyla, \"cv2.resize()\" fonksiyonu kullanılarak örneğin, yolunu verdiğimiz \"adeneme.jpg\" adlı bir görüntü dosyasını okudu ve önceden belirlemiş olduğumuz (32,32) boyutlarına yeniden ölçeklendirdik. Buradaki amacımız, kendi yazdığımız bir harfi doğru tahmin etmesini test etmekti. Daha sonra, bu yeniden ölçeklendirilmiş görüntüyü \"plt.imshow()\" fonksiyonu ile ekranda gösterdik. \"cmap='gray'\" argümanı ise önceden de değindiğimiz gibi görüntünün gri tonlamalı olarak gösterilmesini sağladı.*"
   ]
  },
  {
   "cell_type": "code",
   "execution_count": 35,
   "id": "159d4e63",
   "metadata": {},
   "outputs": [],
   "source": [
    "img = pca.transform(img.reshape(1,-1)/255)"
   ]
  },
  {
   "cell_type": "markdown",
   "id": "cc72e6ff",
   "metadata": {},
   "source": [
    "*Bu kod satırında, verilen görüntünün boyutlarını 32x32 piksel olarak değiştirdik ve numpy dizisi olarak okundu. Daha sonra, görüntüyü \"img\" değişkenine atadık.*\n",
    "\n",
    "*Sonra, \"pca\" değişkenine atanan PCA nesnesinin \"transform()\" fonksiyonunu kullanarak, görüntünün özelliklerini önceden belirlediğimiz sayıda özellikle özetledik. Bu işlem sırasında, görüntünün orijinal boyutlarındaki özellikleri azalttık ve görüntünün özetlenmiş özelliklerini numpy dizisi olarak döndürdük. Bu özellikleri, daha önceden belirlediğimiz n_components değerine göre seçtik. Bu değer, PCA sırasında kullanılan özellik sayısını belirtiyor. \"img\" değişkeninin yeni özellikleri, \"img\" değişkenine atanmış oldu.*"
   ]
  },
  {
   "cell_type": "code",
   "execution_count": 36,
   "id": "5883b20b",
   "metadata": {},
   "outputs": [
    {
     "data": {
      "text/plain": [
       "'A'"
      ]
     },
     "execution_count": 36,
     "metadata": {},
     "output_type": "execute_result"
    }
   ],
   "source": [
    "decode[log.predict(img)[0]]"
   ]
  },
  {
   "cell_type": "markdown",
   "id": "a9182b3e",
   "metadata": {},
   "source": [
    "*\"decode\" değişkeninin, görüntülerin sınıfını temsil eden harflerin sayısal karşılıklarını tutan bir sözlük verisi olduğunu söylemiştik. \"log.predict(img)[0]\" kod satırı, \"log\" adlı Logistic Regression modelini kullanarak verilen görüntünün sınıfını tahmin ettik ve tahmin sonucunu bir dize olarak döndürmüş olduk. \"decode\" sözlüğünde bu dizeyle eşleşen sayısal karşılığı arandı ve eşleşen sayısal karşılık döndürüldü. Örneğin, eğer \"log.predict(img)[0]\" dizesi \"A\" olarak döndürürse, \"decode\" sözlüğünde \"A\" anahtarı ile eşleşen sayısal değer 10 olarak döndürülür. Son olarak, tahmin edilen harf çıktısı ekranda yazdırılır örneğin, biz \"A\" harfinin testini yaptık ve doğru tahminde bulunup 'A' çıktısını aldık.*"
   ]
  }
 ],
 "metadata": {
  "kernelspec": {
   "display_name": "Python 3 (ipykernel)",
   "language": "python",
   "name": "python3"
  },
  "language_info": {
   "codemirror_mode": {
    "name": "ipython",
    "version": 3
   },
   "file_extension": ".py",
   "mimetype": "text/x-python",
   "name": "python",
   "nbconvert_exporter": "python",
   "pygments_lexer": "ipython3",
   "version": "3.10.9"
  },
  "vscode": {
   "interpreter": {
    "hash": "82959e77460e083da18e737baffaef90bf265d56b23ca404d95f589adb9e74ad"
   }
  }
 },
 "nbformat": 4,
 "nbformat_minor": 5
}
